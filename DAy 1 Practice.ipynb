{
 "cells": [
  {
   "cell_type": "code",
   "execution_count": null,
   "metadata": {
    "collapsed": true
   },
   "outputs": [],
   "source": [
    "import pandas as pdusers\n",
    "pdusers.read_csv(\"F:/3 WORKSHOPS ATTENDED/15 Data Science/1 exercise/ml-1m/ml-1m/users.dat\", sep='::', header=None)\n",
    "\n",
    "import pandas as pdmovies\n",
    "datamovies=pdmovies.read_csv(\"F:/3 WORKSHOPS ATTENDED/15 Data Science/1 exercise/ml-1m/ml-1m/movies.dat\", sep='::', header=None)\n",
    "datamovies.columns=['MovieID','Totle','Generes']\n",
    "datamovies\n",
    "\n",
    "datamovies['Generes']\n",
    "\n",
    "import pandas as pdratings\n",
    "datarating=pdratings.read_csv(\"F:/3 WORKSHOPS ATTENDED/15 Data Science/1 exercise/ml-1m/ml-1m/ratings.dat\", sep='::', header=None)\n",
    "datarating.columns=['UserID','MovieID','Rating','Timestamp']\n",
    "datarating\n",
    "\n",
    "\n",
    "\n",
    "import pandas as pdratings\n",
    "data=pdratings.read_csv(\"F:/3 WORKSHOPS ATTENDED/15 Data Science/1 exercise/ml-1m/ml-1m/ratings.dat\", sep='::', header=None)\n",
    "data.columns=['UserID','MovieID','Rating','Timestamp']\n",
    "data\n",
    "\n",
    "\n",
    "\n",
    "\n",
    "\n",
    "df = pdmovies.DataFrame([])\n",
    "\n",
    "df2 = pdmovies.DataFrame(df[2].str.split('|').tolist())\n",
    "df2\n",
    "\n",
    "\n",
    "\n",
    "\n",
    "\n",
    "import pandas as pdmovies\n",
    "\n",
    "datamovies=pdmovies.read_csv(\"F:/3 WORKSHOPS ATTENDED/15 Data Science/1 exercise/ml-1m/ml-1m/movies.dat\", sep='::', header=None,  usecols=[0,2])\n",
    "datamovies.columns=['MovieID','Generes']\n",
    "\n",
    "datamovies.to_csv('C:/output/output.txt', sep='|',index=False)\n",
    "\n",
    "datamovies\n",
    "\n",
    "\n",
    "\n",
    "\n",
    "\n",
    "import csv\n",
    "import pandas as pdmovies\n",
    "\n",
    "datamovies=pdmovies.read_csv(\"F:/3 WORKSHOPS ATTENDED/15 Data Science/1 exercise/ml-1m/ml-1m/movies.dat\", sep='::', header=None,  usecols=[0,2])\n",
    "datamovies.columns=['MovieID','Generes']\n",
    "\n",
    "datamovies.to_csv(quoting=False)\n",
    "\n",
    "datamovies.to_csv('C:/output/output.txt', sep='|',index=False, doublequote=False, quoting=csv.QUOTE_MINIMAL)\n",
    "\n",
    "datamovies"
   ]
  }
 ],
 "metadata": {
  "kernelspec": {
   "display_name": "Python [conda root]",
   "language": "python",
   "name": "conda-root-py"
  },
  "language_info": {
   "codemirror_mode": {
    "name": "ipython",
    "version": 2
   },
   "file_extension": ".py",
   "mimetype": "text/x-python",
   "name": "python",
   "nbconvert_exporter": "python",
   "pygments_lexer": "ipython2",
   "version": "2.7.12"
  }
 },
 "nbformat": 4,
 "nbformat_minor": 1
}
